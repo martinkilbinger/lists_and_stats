{
 "cells": [
  {
   "cell_type": "markdown",
   "metadata": {},
   "source": [
    "# Garbage"
   ]
  },
  {
   "cell_type": "code",
   "execution_count": 167,
   "metadata": {},
   "outputs": [],
   "source": [
    "import os\n",
    "import re\n",
    "import numpy as np\n",
    "import pandas as pd\n",
    "import pylab as plt\n",
    "from matplotlib.dates import DateFormatter\n",
    "from functools import reduce"
   ]
  },
  {
   "cell_type": "code",
   "execution_count": 168,
   "metadata": {},
   "outputs": [],
   "source": [
    "%matplotlib inline"
   ]
  },
  {
   "cell_type": "markdown",
   "metadata": {},
   "source": [
    "## Set up"
   ]
  },
  {
   "cell_type": "markdown",
   "metadata": {},
   "source": [
    "### Categories"
   ]
  },
  {
   "cell_type": "code",
   "execution_count": 169,
   "metadata": {},
   "outputs": [],
   "source": [
    "category = ['C', 'R', 'V', 'G', 'Cd', 'Cat']\n",
    "col = ['g', 'y', 'b', 'r', 'lightgreen', 'darkred']\n",
    "lab = ['compost', 'recycling', 'glass', 'garbage', 'dry compost', 'cat']\n",
    "\n",
    "color = {}\n",
    "label = {}\n",
    "for i in range(len(category)):\n",
    "    color[category[i]] = col[i]\n",
    "    label[category[i]] = lab[i]"
   ]
  },
  {
   "cell_type": "markdown",
   "metadata": {},
   "source": [
    "## Read rst file"
   ]
  },
  {
   "cell_type": "code",
   "execution_count": 170,
   "metadata": {},
   "outputs": [],
   "source": [
    "file_name = '{}/astro/sphinx/France/garbage.rst'.format(os.environ['HOME'])\n",
    "with open(file_name, 'r', encoding=\"utf-8\", errors='ignore') as file:\n",
    "    lines = file.readlines()"
   ]
  },
  {
   "cell_type": "code",
   "execution_count": 171,
   "metadata": {},
   "outputs": [
    {
     "name": "stdout",
     "output_type": "stream",
     "text": [
      "Creating new pandas data frame\n",
      "Entries from 18/11/2020 to 20/03/2021\n",
      "Read 116 lines into data frame\n"
     ]
    }
   ],
   "source": [
    "cur_year = None\n",
    "# List of years appearing in rst file\n",
    "all_years = [2020, 2021]\n",
    "year_arr = []\n",
    "\n",
    "# Column names where 2nd trailing line is appended to previous line\n",
    "cols_app_next_line = []\n",
    "\n",
    "i = 0\n",
    "for line in lines:\n",
    "    \n",
    "    line = line.strip()\n",
    "    \n",
    "    # Get current year = heading\n",
    "    for year in all_years:\n",
    "        if re.match('\\A{}'.format(year), line):\n",
    "            cur_year = year\n",
    "            continue\n",
    "\n",
    "    # Before first year heading: we are still in preamble\n",
    "    if cur_year == None:\n",
    "        continue\n",
    "\n",
    "    # Table row deliminators\n",
    "    if re.match('\\A\\+\\-', line):\n",
    "        continue\n",
    "\n",
    "    dat = re.split(' *\\|{1} *', line)[1:]\n",
    "    if len(dat) == 0:\n",
    "        continue\n",
    "        \n",
    "    if dat[0] == 'date':\n",
    "        if cur_year == all_years[0]:\n",
    "            header = dat\n",
    "            print('Creating new pandas data frame')\n",
    "            df = pd.DataFrame(columns=header)\n",
    "    else:\n",
    "        if len(dat[0]) == 0:\n",
    "            for c in cols_app_next_line:\n",
    "                idx = df.columns.get_loc(c)\n",
    "                df.loc[i-1][c] = '{} {}'.format(df.loc[i-1][c], dat[idx])\n",
    "        else:\n",
    "            # Add new line\n",
    "            df.loc[i] = dat\n",
    "            i = i + 1\n",
    "\n",
    "            year_arr.append(cur_year)\n",
    "        \n",
    "print('Entries from {}/{} to {}/{}'.format(df['date'][0], all_years[0],\n",
    "                                           df['date'][len(df)-1], all_years[-1]))\n",
    "print('Read {} lines into data frame'.format(i))"
   ]
  },
  {
   "cell_type": "markdown",
   "metadata": {},
   "source": [
    "## Adding values"
   ]
  },
  {
   "cell_type": "markdown",
   "metadata": {},
   "source": [
    "### Year"
   ]
  },
  {
   "cell_type": "code",
   "execution_count": 172,
   "metadata": {},
   "outputs": [],
   "source": [
    "year_ser = pd.Series(year_arr)\n",
    "df = df.assign(year=year_ser.values)"
   ]
  },
  {
   "cell_type": "markdown",
   "metadata": {},
   "source": [
    "### Times in datetime format"
   ]
  },
  {
   "cell_type": "code",
   "execution_count": 173,
   "metadata": {},
   "outputs": [],
   "source": [
    "tmp = df['date'] + '/' + df['year'].astype(str)\n",
    "df['dmy'] = pd.to_datetime(tmp, format='%d/%m/%Y')"
   ]
  },
  {
   "cell_type": "markdown",
   "metadata": {},
   "source": [
    "### Types as groups"
   ]
  },
  {
   "cell_type": "code",
   "execution_count": 174,
   "metadata": {},
   "outputs": [],
   "source": [
    "groups = df.groupby('type')"
   ]
  },
  {
   "cell_type": "markdown",
   "metadata": {},
   "source": [
    "### Transform columns"
   ]
  },
  {
   "cell_type": "code",
   "execution_count": 175,
   "metadata": {},
   "outputs": [],
   "source": [
    "# Set date as index columns\n",
    "df.set_index(['dmy'], inplace=True)\n",
    "\n",
    "# Set weight to float\n",
    "df['weight'] = pd.to_numeric(df['weight'])"
   ]
  },
  {
   "cell_type": "markdown",
   "metadata": {},
   "source": [
    "## Plots"
   ]
  },
  {
   "cell_type": "markdown",
   "metadata": {},
   "source": [
    "### Scatter plot of day versus weight"
   ]
  },
  {
   "cell_type": "code",
   "execution_count": 176,
   "metadata": {},
   "outputs": [
    {
     "data": {
      "image/png": "[encoded data removed]",
      "text/plain": [
       "<Figure size 432x288 with 1 Axes>"
      ]
     },
     "metadata": {
      "needs_background": "light"
     },
     "output_type": "display_data"
    }
   ],
   "source": [
    "fig, ax = plt.subplots()\n",
    "\n",
    "#from pandas.plotting import register_matplotlib_cdonverters\n",
    "#register_matplotlib_converters()\n",
    "\n",
    "for name, group in groups:\n",
    "    ax.plot(group.index, group.weight, marker='o', color=color[name], linestyle='', ms=10, label=label[name])\n",
    "ax.legend()\n",
    "ti = plt.xticks(rotation='vertical')\n",
    "xl = plt.xlabel('date')\n",
    "yl = plt.ylabel('weight [kg]')"
   ]
  },
  {
   "cell_type": "markdown",
   "metadata": {},
   "source": [
    "###  Summed weights per time interval"
   ]
  },
  {
   "cell_type": "code",
   "execution_count": 178,
   "metadata": {},
   "outputs": [],
   "source": [
    "period = ['1M', '1W']\n",
    "xlab = ['b', 'W']\n",
    "\n",
    "summed_all = {}\n",
    "\n",
    "for p in period:\n",
    "    summed = []\n",
    "\n",
    "    for name, group in groups:\n",
    "        tmp = group.resample(p).sum()\n",
    "        tmp.columns = [label[name], 'dummy']\n",
    "        tmp[label[name]] = pd.to_numeric(tmp[label[name]])\n",
    "        summed.append(tmp)\n",
    "    summed_all[p] = reduce(lambda left,right: pd.merge(left,right,on='dmy'), summed)"
   ]
  },
  {
   "cell_type": "code",
   "execution_count": 179,
   "metadata": {},
   "outputs": [
    {
     "data": {
      "image/png": "[encoded data removed]",
      "text/plain": [
       "<Figure size 1296x576 with 2 Axes>"
      ]
     },
     "metadata": {
      "needs_background": "light"
     },
     "output_type": "display_data"
    }
   ],
   "source": [
    "fig, ax_list = plt.subplots(ncols=len(period), figsize=(18, 8))\n",
    "\n",
    "types = list(label.values())\n",
    "colors = list(color.values())\n",
    "\n",
    "for p, ax, xl in zip(period, ax_list, xlab):\n",
    "    plot = summed_all[p].plot(ax=ax, kind='bar', y=types, color=colors, rot=55)\n",
    "    ax.xaxis.set_major_formatter(plt.FixedFormatter(summed_all[p].index.to_series().dt.strftime('%{} %Y'.format(xl))))\n",
    "\n",
    "    ax.set_xlabel('period')\n",
    "    ax.set_ylabel('weight [kg]')\n",
    "\n",
    "plt.subplots_adjust(wspace=0.2, hspace=0.5)\n",
    "plt.savefig('summed.pdf')"
   ]
  },
  {
   "cell_type": "markdown",
   "metadata": {},
   "source": [
    "### Total weights"
   ]
  },
  {
   "cell_type": "code",
   "execution_count": 180,
   "metadata": {},
   "outputs": [],
   "source": [
    "x = []\n",
    "y = []\n",
    "col = []\n",
    "\n",
    "for name, group in groups:\n",
    "    x.append(label[name])\n",
    "    y.append(group.weight.sum())\n",
    "    col.append(color[name])"
   ]
  },
  {
   "cell_type": "code",
   "execution_count": 181,
   "metadata": {},
   "outputs": [
    {
     "data": {
      "image/png": "[encoded data removed]",
      "text/plain": [
       "<Figure size 432x288 with 1 Axes>"
      ]
     },
     "metadata": {
      "needs_background": "light"
     },
     "output_type": "display_data"
    }
   ],
   "source": [
    "fig, ax = plt.subplots()\n",
    "\n",
    "ax.bar(x, y, color=col)\n",
    "\n",
    "ax.set_xlabel('type')\n",
    "yl = ax.set_ylabel('weight [kg]')"
   ]
  }
 ],
 "metadata": {
  "kernelspec": {
   "display_name": "Python 3",
   "language": "python",
   "name": "python3"
  },
  "language_info": {
   "codemirror_mode": {
    "name": "ipython",
    "version": 3
   },
   "file_extension": ".py",
   "mimetype": "text/x-python",
   "name": "python",
   "nbconvert_exporter": "python",
   "pygments_lexer": "ipython3",
   "version": "3.8.5"
  }
 },
 "nbformat": 4,
 "nbformat_minor": 2
}
